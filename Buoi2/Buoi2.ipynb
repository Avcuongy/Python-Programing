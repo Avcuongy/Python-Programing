{
 "cells": [
  {
   "cell_type": "markdown",
   "metadata": {},
   "source": [
    "---\n",
    "# 1\n",
    "---"
   ]
  },
  {
   "cell_type": "code",
   "execution_count": null,
   "metadata": {},
   "outputs": [
    {
     "name": "stdout",
     "output_type": "stream",
     "text": [
      "10\n"
     ]
    }
   ],
   "source": [
    "s = input() \n",
    "print(len(s))"
   ]
  },
  {
   "cell_type": "markdown",
   "metadata": {},
   "source": [
    "---\n",
    "# 2\n",
    "---"
   ]
  },
  {
   "cell_type": "code",
   "execution_count": null,
   "metadata": {},
   "outputs": [
    {
     "name": "stdout",
     "output_type": "stream",
     "text": [
      "{'g': 2, 'o': 3, 'l': 1, 'e': 1, '.': 1, 'c': 1, 'm': 1}\n"
     ]
    }
   ],
   "source": [
    "s = input()\n",
    "dict = {}\n",
    "for i in s:\n",
    "    if i in dict:\n",
    "        dict[i] += 1\n",
    "    else:\n",
    "        dict[i] = 1\n",
    "print(dict)"
   ]
  },
  {
   "cell_type": "markdown",
   "metadata": {},
   "source": [
    "---\n",
    "# 3\n",
    "---"
   ]
  },
  {
   "cell_type": "code",
   "execution_count": null,
   "metadata": {},
   "outputs": [
    {
     "name": "stdout",
     "output_type": "stream",
     "text": [
      "go\n",
      "om\n"
     ]
    }
   ],
   "source": [
    "s = input() \n",
    "if len(s) > 2:\n",
    "    print(f'{s[:2]}\\n{s[-2:]}')\n",
    "else:\n",
    "    print()"
   ]
  },
  {
   "cell_type": "markdown",
   "metadata": {},
   "source": [
    "---\n",
    "# 4\n",
    "---"
   ]
  },
  {
   "cell_type": "code",
   "execution_count": null,
   "metadata": {},
   "outputs": [
    {
     "name": "stdout",
     "output_type": "stream",
     "text": [
      "goo$le.com\n"
     ]
    }
   ],
   "source": [
    "s = input()\n",
    "print(s[0] + s[1:].replace(s[0],'$'))"
   ]
  },
  {
   "cell_type": "markdown",
   "metadata": {},
   "source": [
    "---\n",
    "# 5\n",
    "---"
   ]
  },
  {
   "cell_type": "code",
   "execution_count": null,
   "metadata": {},
   "outputs": [
    {
     "name": "stdout",
     "output_type": "stream",
     "text": [
      "xyc abz\n"
     ]
    }
   ],
   "source": [
    "s1 = input()\n",
    "s2 = input()\n",
    "print(s2[:2] + s1[2:] + ' ' + s1[:2] + s2[2:])"
   ]
  },
  {
   "cell_type": "markdown",
   "metadata": {},
   "source": [
    "---\n",
    "# 6\n",
    "---"
   ]
  },
  {
   "cell_type": "code",
   "execution_count": null,
   "metadata": {},
   "outputs": [
    {
     "name": "stdout",
     "output_type": "stream",
     "text": [
      "acbingly\n",
      "acbing\n"
     ]
    }
   ],
   "source": [
    "s = input() \n",
    "if len(s) > 3:\n",
    "    if s[-3:] == 'ing':\n",
    "        print(s + 'ly')\n",
    "    else:\n",
    "        print(s + 'ing')\n",
    "print(s)"
   ]
  },
  {
   "cell_type": "markdown",
   "metadata": {},
   "source": [
    "---\n",
    "# 7\n",
    "---"
   ]
  },
  {
   "cell_type": "code",
   "execution_count": null,
   "metadata": {},
   "outputs": [
    {
     "name": "stdout",
     "output_type": "stream",
     "text": [
      "this lyrics is good !\n"
     ]
    }
   ],
   "source": [
    "s = input()\n",
    "index_not = s.find(\"not\")\n",
    "index_poor = s.find(\"poor\")\n",
    "if index_not != -1 and index_poor != -1:\n",
    "    print(f\"{s[:index_not]}good{s[index_poor + 4:]}\")\n",
    "else:\n",
    "    print(s)"
   ]
  },
  {
   "cell_type": "markdown",
   "metadata": {},
   "source": [
    "---\n",
    "# 8\n",
    "---"
   ]
  },
  {
   "cell_type": "code",
   "execution_count": 75,
   "metadata": {},
   "outputs": [
    {
     "name": "stdout",
     "output_type": "stream",
     "text": [
      "Exercises\n"
     ]
    }
   ],
   "source": [
    "words_list = ['Python','Coding','Exercises', 'Test']\n",
    "print(max(words_list, key=len))"
   ]
  },
  {
   "cell_type": "markdown",
   "metadata": {},
   "source": [
    "---\n",
    "# 9\n",
    "---"
   ]
  },
  {
   "cell_type": "code",
   "execution_count": null,
   "metadata": {},
   "outputs": [
    {
     "name": "stdout",
     "output_type": "stream",
     "text": [
      "input\n",
      "inpu\n"
     ]
    }
   ],
   "source": [
    "n = int(input()) \n",
    "s  = input() \n",
    "print(s)\n",
    "print(f'{s[:n]}{s[n+1:]}')"
   ]
  },
  {
   "cell_type": "markdown",
   "metadata": {},
   "source": [
    "---\n",
    "# 10\n",
    "---"
   ]
  },
  {
   "cell_type": "code",
   "execution_count": null,
   "metadata": {},
   "outputs": [
    {
     "name": "stdout",
     "output_type": "stream",
     "text": [
      "ioilaat\n"
     ]
    }
   ],
   "source": [
    "s = input() \n",
    "print(f'{s[-1] + s[1:len(s)-1] + s[0]}')"
   ]
  },
  {
   "cell_type": "markdown",
   "metadata": {},
   "source": [
    "---\n",
    "# 11\n",
    "---"
   ]
  },
  {
   "cell_type": "code",
   "execution_count": null,
   "metadata": {},
   "outputs": [
    {
     "name": "stdout",
     "output_type": "stream",
     "text": [
      "toidayne\n",
      "tian\n"
     ]
    }
   ],
   "source": [
    "s = input()\n",
    "new_s = ''\n",
    "print(s)\n",
    "for i in range(len(s)):\n",
    "    if i % 2 == 0:\n",
    "        new_s += s[i]\n",
    "print(new_s)"
   ]
  },
  {
   "cell_type": "markdown",
   "metadata": {},
   "source": [
    "---\n",
    "# 12\n",
    "---"
   ]
  },
  {
   "cell_type": "code",
   "execution_count": null,
   "metadata": {},
   "outputs": [
    {
     "name": "stdout",
     "output_type": "stream",
     "text": [
      "tôi: 3\n",
      "là: 3\n",
      "ai: 3\n",
      "không: 3\n",
      "quan: 3\n",
      "trọng: 3\n"
     ]
    }
   ],
   "source": [
    "from collections import Counter\n",
    "s = input() # string sentences\n",
    "s = s.strip().rstrip('.?!')\n",
    "words_list = s.split()\n",
    "for key, value in Counter(words_list).items():\n",
    "    print(f'{key}: {value}')"
   ]
  },
  {
   "cell_type": "markdown",
   "metadata": {},
   "source": [
    "---\n",
    "# 13\n",
    "---"
   ]
  },
  {
   "cell_type": "code",
   "execution_count": null,
   "metadata": {},
   "outputs": [
    {
     "name": "stdout",
     "output_type": "stream",
     "text": [
      "thudbndv\n",
      "THUDBNDV\n"
     ]
    }
   ],
   "source": [
    "s = input() \n",
    "print(f'{s.lower()}\\n{s.upper()}')"
   ]
  },
  {
   "cell_type": "markdown",
   "metadata": {},
   "source": [
    "---\n",
    "# 14\n",
    "---"
   ]
  },
  {
   "cell_type": "code",
   "execution_count": null,
   "metadata": {},
   "outputs": [
    {
     "name": "stdout",
     "output_type": "stream",
     "text": [
      "black, green, red, white\n"
     ]
    }
   ],
   "source": [
    "s = input()\n",
    "s = s.replace(',', ' ')\n",
    "words_list = s.split()\n",
    "words_list = sorted(set(words_list))\n",
    "print(f'{', '.join(words_list)}')"
   ]
  },
  {
   "cell_type": "markdown",
   "metadata": {},
   "source": [
    "---\n",
    "# 15\n",
    "```\n",
    "Sample function and result : \n",
    "add_tags('i', 'Python') -> '<i>Python</i>' \n",
    "add_tags('b', 'Python Tutorial') -> '<b>Python Tutorial </b>'\n",
    "```\n",
    "---"
   ]
  },
  {
   "cell_type": "code",
   "execution_count": 123,
   "metadata": {},
   "outputs": [
    {
     "data": {
      "text/plain": [
       "'<b>Python Tutorial</b>'"
      ]
     },
     "execution_count": 123,
     "metadata": {},
     "output_type": "execute_result"
    }
   ],
   "source": [
    "def add_tags(i:str, s:str):\n",
    "    return f'<{i}>{s}</{i}>'\n",
    "\n",
    "add_tags('b', 'Python Tutorial')"
   ]
  },
  {
   "cell_type": "markdown",
   "metadata": {},
   "source": [
    "---\n",
    "# 16\n",
    "```\n",
    "Sample function and result : \n",
    "insert_sting_middle('[[]]<<>>', ' Python') -> [[Python]] \n",
    "```\n",
    "---"
   ]
  },
  {
   "cell_type": "code",
   "execution_count": 130,
   "metadata": {},
   "outputs": [
    {
     "data": {
      "text/plain": [
       "'{{{PHP}}}'"
      ]
     },
     "execution_count": 130,
     "metadata": {},
     "output_type": "execute_result"
    }
   ],
   "source": [
    "def insert_sting_middle(s:str, i:str):\n",
    "    mid = len(s) // 2\n",
    "    return s[:mid] + i + s[mid:]\n",
    "\n",
    "insert_sting_middle('{{{}}}', 'PHP')"
   ]
  },
  {
   "cell_type": "markdown",
   "metadata": {},
   "source": [
    "---\n",
    "# 17\n",
    "```\n",
    "insert_end('Python') -> onononon \n",
    "insert_end('Exercises') -> eseseses\n",
    "```\n",
    "---"
   ]
  },
  {
   "cell_type": "code",
   "execution_count": 2,
   "metadata": {},
   "outputs": [
    {
     "data": {
      "text/plain": [
       "'eseseses'"
      ]
     },
     "execution_count": 2,
     "metadata": {},
     "output_type": "execute_result"
    }
   ],
   "source": [
    "def insert_end(s:str):\n",
    "    return s[-2:]*4\n",
    "\n",
    "insert_end('Exercises')"
   ]
  },
  {
   "cell_type": "markdown",
   "metadata": {},
   "source": [
    "---\n",
    "# 18\n",
    "```\n",
    "first_three('ipy') -> ipy \n",
    "first_three(' python') -> pyt\n",
    "```\n",
    "---"
   ]
  },
  {
   "cell_type": "code",
   "execution_count": 138,
   "metadata": {},
   "outputs": [
    {
     "data": {
      "text/plain": [
       "'Pyt'"
      ]
     },
     "execution_count": 138,
     "metadata": {},
     "output_type": "execute_result"
    }
   ],
   "source": [
    "def first_three(s:str):\n",
    "    if len(s) > 3:\n",
    "        return s[:3]\n",
    "    return s\n",
    "\n",
    "first_three('Python')"
   ]
  },
  {
   "cell_type": "markdown",
   "metadata": {},
   "source": [
    "---\n",
    "# 19\n",
    "```\n",
    "https://www.w3resource.com/python-exercises \n",
    "https://www.w3resource.com/python\n",
    "```\n",
    "---"
   ]
  },
  {
   "cell_type": "code",
   "execution_count": 142,
   "metadata": {},
   "outputs": [
    {
     "data": {
      "text/plain": [
       "'https://www.w3resource.com/python'"
      ]
     },
     "execution_count": 142,
     "metadata": {},
     "output_type": "execute_result"
    }
   ],
   "source": [
    "def specified_string(s:str):\n",
    "    index = 0\n",
    "    for i in range(len(s)-1, 0, -1):\n",
    "        if not str(s[i]).isalnum():\n",
    "            index = i\n",
    "            break\n",
    "    return s[:index]\n",
    "\n",
    "specified_string('https://www.w3resource.com/python-exercises')"
   ]
  },
  {
   "cell_type": "markdown",
   "metadata": {},
   "source": [
    "---\n",
    "# 20\n",
    "---"
   ]
  },
  {
   "cell_type": "code",
   "execution_count": null,
   "metadata": {},
   "outputs": [
    {
     "name": "stdout",
     "output_type": "stream",
     "text": [
      "gnôhk nohtyp\n"
     ]
    }
   ],
   "source": [
    "def reverse_str_mul_by_four(s:str):\n",
    "    if len(s) % 4 == 0:\n",
    "        return s[::-1]\n",
    "    return s\n",
    "    \n",
    "s = input()\n",
    "print(reverse_str_mul_by_four(s))"
   ]
  },
  {
   "cell_type": "markdown",
   "metadata": {},
   "source": [
    "---\n",
    "# 21\n",
    "---"
   ]
  },
  {
   "cell_type": "code",
   "execution_count": null,
   "metadata": {},
   "outputs": [
    {
     "name": "stdout",
     "output_type": "stream",
     "text": [
      "THON VI DA\n"
     ]
    }
   ],
   "source": [
    "def is_four_char_upper(s:str): \n",
    "    words_first_four = s[:5]\n",
    "    for i in words_first_four:\n",
    "        if i.isupper():\n",
    "            return s.upper()\n",
    "    return s\n",
    "\n",
    "s = input()\n",
    "print(is_four_char_upper(s))"
   ]
  },
  {
   "cell_type": "markdown",
   "metadata": {},
   "source": [
    "---\n",
    "# 22\n",
    "- Lexicographic: Từ điển\n",
    "- Phân biệt hoa, thường\n",
    "---"
   ]
  },
  {
   "cell_type": "code",
   "execution_count": null,
   "metadata": {},
   "outputs": [
    {
     "name": "stdout",
     "output_type": "stream",
     "text": [
      "2 4 5 G G a b c d d g h j\n"
     ]
    }
   ],
   "source": [
    "def lexicographic_order(s:str):\n",
    "    str_list = []\n",
    "    for i in s:\n",
    "        str_list.append(i)\n",
    "    str_list.sort()\n",
    "    return ' '.join(str_list)\n",
    "        \n",
    "s = input()\n",
    "print(lexicographic_order(s))"
   ]
  },
  {
   "cell_type": "markdown",
   "metadata": {},
   "source": [
    "---\n",
    "# 23\n",
    "---"
   ]
  },
  {
   "cell_type": "code",
   "execution_count": 34,
   "metadata": {},
   "outputs": [
    {
     "name": "stdout",
     "output_type": "stream",
     "text": [
      "Tôi đâyChất phát thật thàTôi đây\n"
     ]
    }
   ],
   "source": [
    "def remove_newline(s: str):\n",
    "    return s.replace('\\n', '')\n",
    "\n",
    "s = \"\"\"Tôi đây\n",
    "Chất phát thật thà\n",
    "Tôi đây\n",
    "\"\"\"\n",
    "\n",
    "# s = input() # string\n",
    "print(remove_newline(s))"
   ]
  },
  {
   "cell_type": "markdown",
   "metadata": {},
   "source": [
    "---\n",
    "# 24\n",
    "---"
   ]
  },
  {
   "cell_type": "code",
   "execution_count": null,
   "metadata": {},
   "outputs": [
    {
     "name": "stdout",
     "output_type": "stream",
     "text": [
      "^7.sad^j13\n",
      "True\n"
     ]
    }
   ],
   "source": [
    "def is_specified_char_start(s: str):\n",
    "    return True if s[0].upper() == s[0].lower() and s[0] not in '0123456789' else False\n",
    "\n",
    "s = input()\n",
    "print(s)\n",
    "print(is_specified_char_start(s))"
   ]
  },
  {
   "cell_type": "markdown",
   "metadata": {},
   "source": [
    "---\n",
    "# 26\n",
    "---"
   ]
  },
  {
   "cell_type": "code",
   "execution_count": 5,
   "metadata": {},
   "outputs": [
    {
     "name": "stdout",
     "output_type": "stream",
     "text": [
      "|                     tôi đây                      |\n"
     ]
    }
   ],
   "source": [
    "s = input() # string\n",
    "print(f'|{s:^50}|')"
   ]
  },
  {
   "cell_type": "markdown",
   "metadata": {},
   "source": [
    "---\n",
    "# 27\n",
    "---"
   ]
  },
  {
   "cell_type": "code",
   "execution_count": null,
   "metadata": {},
   "outputs": [
    {
     "name": "stdout",
     "output_type": "stream",
     "text": [
      "Có mài sắt có ngày nên kim\n",
      "Công cha như núi thái sơn\n",
      "Nghĩa mẹ như nước trong nguồn chảy ra\n",
      "Câu văn nó là như lày !\n",
      "\n"
     ]
    }
   ],
   "source": [
    "def remove_all_indentation(s: str):\n",
    "    return '\\n'.join(text.strip() for text in s.split('\\n'))\n",
    "\n",
    "s = \"\"\"       Có mài sắt có ngày nên kim   \n",
    "          Công cha như núi thái sơn    \n",
    "   Nghĩa mẹ như nước trong nguồn chảy ra   \n",
    "              Câu văn nó là như lày !   \"\"\"\n",
    "\n",
    "print(remove_all_indentation(s))"
   ]
  },
  {
   "cell_type": "markdown",
   "metadata": {},
   "source": [
    "---\n",
    "# 28\n",
    "---"
   ]
  },
  {
   "cell_type": "code",
   "execution_count": null,
   "metadata": {},
   "outputs": [
    {
     "name": "stdout",
     "output_type": "stream",
     "text": [
      "PREFIX Có mài sắt có ngày nên kim\n",
      "PREFIX Công cha như núi thái sơn\n",
      "PREFIX Nghĩa mẹ như nước trong nguồn chảy ra\n",
      "PREFIX Câu văn nó là như lày !\n"
     ]
    }
   ],
   "source": [
    "def add_prefix_text(s:str, text: str):\n",
    "    return '\\n'.join(text + ' ' + line.strip() for line in s.split('\\n'))\n",
    "\n",
    "s = \"\"\"       Có mài sắt có ngày nên kim   \n",
    "          Công cha như núi thái sơn    \n",
    "   Nghĩa mẹ như nước trong nguồn chảy ra   \n",
    "              Câu văn nó là như lày !   \"\"\"\n",
    "\n",
    "text = input('Prefix: ')\n",
    "print(add_prefix_text(s, text))"
   ]
  },
  {
   "cell_type": "markdown",
   "metadata": {},
   "source": [
    "---\n",
    "# 29\n",
    "---"
   ]
  },
  {
   "cell_type": "code",
   "execution_count": 38,
   "metadata": {},
   "outputs": [
    {
     "name": "stdout",
     "output_type": "stream",
     "text": [
      "\tCó mài sắt có ngày nên kim\n",
      "\tCông cha như núi thái sơn\n",
      "\tNghĩa mẹ như nước trong nguồn chảy ra\n",
      "\tCâu văn nó là như lày !\n"
     ]
    }
   ],
   "source": [
    "def add_indentation(s:str):\n",
    "    return '\\n'.join('\\t'+ line.strip() for line in s.split('\\n'))\n",
    "\n",
    "s = \"\"\"       Có mài sắt có ngày nên kim   \n",
    "          Công cha như núi thái sơn    \n",
    "   Nghĩa mẹ như nước trong nguồn chảy ra   \n",
    "              Câu văn nó là như lày !   \"\"\"\n",
    "              \n",
    "print(add_indentation(s))"
   ]
  },
  {
   "cell_type": "markdown",
   "metadata": {},
   "source": [
    "---\n",
    "# 30\n",
    "---"
   ]
  },
  {
   "cell_type": "code",
   "execution_count": 48,
   "metadata": {},
   "outputs": [
    {
     "name": "stdout",
     "output_type": "stream",
     "text": [
      "554.46\n"
     ]
    }
   ],
   "source": [
    "num = float(input('Num: '))\n",
    "\n",
    "print(f'{num:0.2f}')"
   ]
  },
  {
   "cell_type": "markdown",
   "metadata": {},
   "source": [
    "---\n",
    "# 31\n",
    "---"
   ]
  },
  {
   "cell_type": "code",
   "execution_count": 49,
   "metadata": {},
   "outputs": [
    {
     "name": "stdout",
     "output_type": "stream",
     "text": [
      "-434.35\n"
     ]
    }
   ],
   "source": [
    "num = float(input('Num: '))\n",
    "\n",
    "print(f'{num:+0.2f}')"
   ]
  },
  {
   "cell_type": "markdown",
   "metadata": {},
   "source": [
    "---\n",
    "# 32\n",
    "---"
   ]
  },
  {
   "cell_type": "code",
   "execution_count": 53,
   "metadata": {},
   "outputs": [
    {
     "name": "stdout",
     "output_type": "stream",
     "text": [
      "-34235\n"
     ]
    }
   ],
   "source": [
    "num = float(input())\n",
    "\n",
    "print(f'{num:+.0f}')"
   ]
  },
  {
   "cell_type": "markdown",
   "metadata": {},
   "source": [
    "---\n",
    "# 33\n",
    "---"
   ]
  },
  {
   "cell_type": "code",
   "execution_count": 63,
   "metadata": {},
   "outputs": [
    {
     "name": "stdout",
     "output_type": "stream",
     "text": [
      "0000005426\n"
     ]
    }
   ],
   "source": [
    "#def add_zero_indentation(num: int, indentation: int):\n",
    "#    return str(0)*indentation + str(round(num))\n",
    "\n",
    "num = float(input('Num: '))\n",
    "indentation = int(input('indentation ='))\n",
    "#print(add_zero_indentation(num, indentation))\n",
    "print(f'{num:0{indentation}.0f}')"
   ]
  },
  {
   "cell_type": "markdown",
   "metadata": {},
   "source": [
    "---\n",
    "# 34\n",
    "---"
   ]
  },
  {
   "cell_type": "code",
   "execution_count": 82,
   "metadata": {},
   "outputs": [
    {
     "name": "stdout",
     "output_type": "stream",
     "text": [
      "234*******\n"
     ]
    }
   ],
   "source": [
    "num = int(input('Num: '))\n",
    "width = int(input('width ='))\n",
    "print(f'{str(num).ljust(width, '*')}')"
   ]
  },
  {
   "cell_type": "markdown",
   "metadata": {},
   "source": [
    "---\n",
    "# 35\n",
    "---"
   ]
  },
  {
   "cell_type": "code",
   "execution_count": 83,
   "metadata": {},
   "outputs": [
    {
     "name": "stdout",
     "output_type": "stream",
     "text": [
      "32,432\n"
     ]
    }
   ],
   "source": [
    "num = int(input('Num: '))\n",
    "print(f'{num:,}')"
   ]
  },
  {
   "cell_type": "markdown",
   "metadata": {},
   "source": [
    "---\n",
    "# 36\n",
    "---"
   ]
  },
  {
   "cell_type": "code",
   "execution_count": 96,
   "metadata": {},
   "outputs": [
    {
     "name": "stdout",
     "output_type": "stream",
     "text": [
      "43.54%\n"
     ]
    }
   ],
   "source": [
    "num = float(input('Num: '))\n",
    "print(f'{num:0.2f}%')"
   ]
  },
  {
   "cell_type": "markdown",
   "metadata": {},
   "source": [
    "---\n",
    "# 37\n",
    "---"
   ]
  },
  {
   "cell_type": "code",
   "execution_count": 97,
   "metadata": {},
   "outputs": [
    {
     "name": "stdout",
     "output_type": "stream",
     "text": [
      "   445    \n",
      "445       \n",
      "       445\n"
     ]
    }
   ],
   "source": [
    "num = int(input('Num: '))\n",
    "print(f'{num:^10}')\n",
    "print(f'{num:<10}')\n",
    "print(f'{num:>10}')"
   ]
  },
  {
   "cell_type": "markdown",
   "metadata": {},
   "source": [
    "---\n",
    "# 38\n",
    "---"
   ]
  },
  {
   "cell_type": "code",
   "execution_count": 101,
   "metadata": {},
   "outputs": [
    {
     "name": "stdout",
     "output_type": "stream",
     "text": [
      "4\n"
     ]
    }
   ],
   "source": [
    "s = str(input())\n",
    "subs_string = str(input())\n",
    "print(str(s.count(subs_string)))"
   ]
  },
  {
   "cell_type": "markdown",
   "metadata": {},
   "source": [
    "---\n",
    "# 39\n",
    "---"
   ]
  },
  {
   "cell_type": "code",
   "execution_count": 103,
   "metadata": {},
   "outputs": [
    {
     "name": "stdout",
     "output_type": "stream",
     "text": [
      "fedcba\n",
      "abcdef\n"
     ]
    }
   ],
   "source": [
    "s = str(input())\n",
    "print(s)\n",
    "print(s[::-1])"
   ]
  },
  {
   "cell_type": "markdown",
   "metadata": {},
   "source": [
    "---\n",
    "# 40\n",
    "---"
   ]
  },
  {
   "cell_type": "code",
   "execution_count": 105,
   "metadata": {},
   "outputs": [
    {
     "name": "stdout",
     "output_type": "stream",
     "text": [
      "iôt àl ia ếht ỉhn ể\n"
     ]
    }
   ],
   "source": [
    "def reverse_words_in_str(s: str):\n",
    "    return ' '.join(word[::-1] for word in s.split())\n",
    "\n",
    "s = input()\n",
    "print(reverse_words_in_str(s))"
   ]
  },
  {
   "cell_type": "markdown",
   "metadata": {},
   "source": [
    "---\n",
    "# 41\n",
    "---"
   ]
  },
  {
   "cell_type": "code",
   "execution_count": 3,
   "metadata": {},
   "outputs": [
    {
     "name": "stdout",
     "output_type": "stream",
     "text": [
      "&^&@$(@*#$^$*\n",
      "^$#*\n",
      "&&@(@\n"
     ]
    }
   ],
   "source": [
    "def strip_set_char(s: str, char_to_move: str):\n",
    "    for i in s:\n",
    "        if i in char_to_move:\n",
    "            s = s.replace(i, '')\n",
    "    return s\n",
    "\n",
    "s = input()\n",
    "sets_char = input()\n",
    "print(s)\n",
    "print(sets_char)\n",
    "print(strip_set_char(s, sets_char))"
   ]
  },
  {
   "cell_type": "markdown",
   "metadata": {},
   "source": [
    "---\n",
    "# 42\n",
    "---"
   ]
  },
  {
   "cell_type": "code",
   "execution_count": null,
   "metadata": {},
   "outputs": [
    {
     "name": "stdout",
     "output_type": "stream",
     "text": [
      "o 4\n",
      "e 3\n",
      "t 2\n",
      "h 2\n",
      "u 2\n",
      "r 2\n"
     ]
    }
   ],
   "source": [
    "from collections import Counter\n",
    "# s = input() # thequickbrownfoxjumpsoverthelazydog\n",
    "s = 'thequickbrownfoxjumpsoverthelazydog'\n",
    "\n",
    "counter = Counter(s)\n",
    "sorted_dict = dict(sorted(counter.items(), key=lambda x: x[1], reverse=True))\n",
    "for char, count in sorted_dict.items():\n",
    "    if count > 1:\n",
    "        print(f'{char} {count}')"
   ]
  },
  {
   "cell_type": "markdown",
   "metadata": {},
   "source": [
    "---\n",
    "# 43\n",
    "---"
   ]
  },
  {
   "cell_type": "code",
   "execution_count": 19,
   "metadata": {},
   "outputs": [
    {
     "name": "stdout",
     "output_type": "stream",
     "text": [
      "Area of rectangle: 15.0 m²\n",
      "Volume of cylinder: 6.28 m³\n"
     ]
    }
   ],
   "source": [
    "import math\n",
    "\n",
    "def rectangle_area(length, width):\n",
    "    return length * width\n",
    "\n",
    "def cylinder_volume(radius, height):\n",
    "    return math.pi * (radius ** 2) * height\n",
    "\n",
    "length = float(input('length = '))\n",
    "width = float(input('witdh = '))\n",
    "radius = float(input('radius = '))\n",
    "height = float(input('height = '))\n",
    "\n",
    "print(f\"Area of rectangle: {rectangle_area(length, width)} m\\u00b2\")\n",
    "print(f\"Volume of cylinder: {cylinder_volume(radius, height):.2f} m\\u00b3\")"
   ]
  },
  {
   "cell_type": "markdown",
   "metadata": {},
   "source": [
    "---\n",
    "# 44\n",
    "---"
   ]
  },
  {
   "cell_type": "code",
   "execution_count": 21,
   "metadata": {},
   "outputs": [
    {
     "name": "stdout",
     "output_type": "stream",
     "text": [
      "w3resource\n",
      "\n",
      "Current character w at 0\n",
      "Current character 3 at 1\n",
      "Current character r at 2\n",
      "Current character e at 3\n",
      "Current character s at 4\n",
      "Current character o at 5\n",
      "Current character u at 6\n",
      "Current character r at 7\n",
      "Current character c at 8\n",
      "Current character e at 9\n"
     ]
    }
   ],
   "source": [
    "s = input()\n",
    "print(s+'\\n')\n",
    "for index, c in enumerate(s):\n",
    "    print(f'Current character {c} at {index}')"
   ]
  },
  {
   "cell_type": "markdown",
   "metadata": {},
   "source": [
    "---\n",
    "# 45\n",
    "---"
   ]
  },
  {
   "cell_type": "code",
   "execution_count": 25,
   "metadata": {},
   "outputs": [
    {
     "name": "stdout",
     "output_type": "stream",
     "text": [
      "iihvbasab\n",
      "True\n"
     ]
    }
   ],
   "source": [
    "s = input()\n",
    "\n",
    "def is_alpha(s:str):\n",
    "    for i in s:\n",
    "        if not i.isalpha():\n",
    "            return False\n",
    "    return True\n",
    "\n",
    "print(s)\n",
    "print(is_alpha(s))"
   ]
  },
  {
   "cell_type": "markdown",
   "metadata": {},
   "source": [
    "---\n",
    "# 46\n",
    "---"
   ]
  },
  {
   "cell_type": "code",
   "execution_count": null,
   "metadata": {},
   "outputs": [
    {
     "name": "stdout",
     "output_type": "stream",
     "text": [
      "['The', 'quick', 'brown', 'fox', 'jumps', 'over', 'the', 'lazy', 'dog']\n"
     ]
    }
   ],
   "source": [
    "s = input()\n",
    "words_list = s.split()\n",
    "print(words_list) # The quick brown fox jumps over the lazy dog"
   ]
  },
  {
   "cell_type": "markdown",
   "metadata": {},
   "source": [
    "---\n",
    "# 47\n",
    "---"
   ]
  },
  {
   "cell_type": "code",
   "execution_count": 28,
   "metadata": {},
   "outputs": [
    {
     "name": "stdout",
     "output_type": "stream",
     "text": [
      "uHDBAasdiq\n",
      "uhdbaasdiq\n"
     ]
    }
   ],
   "source": [
    "def lower_first_n(s: str, n: int):\n",
    "    return s[:n].lower() + s[n:]\n",
    "\n",
    "s = input()\n",
    "n = int(input())\n",
    "print(s)\n",
    "print(lower_first_n(s, n))"
   ]
  },
  {
   "cell_type": "markdown",
   "metadata": {},
   "source": [
    "---\n",
    "# 48\n",
    "---"
   ]
  },
  {
   "cell_type": "code",
   "execution_count": 30,
   "metadata": {},
   "outputs": [
    {
     "name": "stdout",
     "output_type": "stream",
     "text": [
      "32.054,23\n",
      "32,054.23\n"
     ]
    }
   ],
   "source": [
    "s = input()\n",
    "print(s)\n",
    "s = s.replace('.','#').replace(',','.').replace('#',',')\n",
    "print(s)"
   ]
  },
  {
   "cell_type": "markdown",
   "metadata": {},
   "source": [
    "---\n",
    "# 49\n",
    "---"
   ]
  },
  {
   "cell_type": "code",
   "execution_count": 35,
   "metadata": {},
   "outputs": [
    {
     "name": "stdout",
     "output_type": "stream",
     "text": [
      "aaa iii ooooo ee u\n",
      "{'e': 2, 'u': 1, 'o': 5, 'a': 3, 'i': 3}\n"
     ]
    }
   ],
   "source": [
    "vowels = 'euoai'\n",
    "s = input()\n",
    "print(s)\n",
    "count_dict_vowels = {v: s.count(v) for v in vowels if v in s}\n",
    "print(count_dict_vowels)"
   ]
  },
  {
   "cell_type": "markdown",
   "metadata": {},
   "source": [
    "---\n",
    "# 50\n",
    "---"
   ]
  },
  {
   "cell_type": "code",
   "execution_count": 37,
   "metadata": {},
   "outputs": [
    {
     "name": "stdout",
     "output_type": "stream",
     "text": [
      "apple banana,cherry,grape\n",
      "['apple banana', 'cherry', 'grape']\n"
     ]
    }
   ],
   "source": [
    "s = input()\n",
    "print(s)\n",
    "delimiter = input()\n",
    "print(f'{s.rsplit(delimiter)}')"
   ]
  },
  {
   "cell_type": "markdown",
   "metadata": {},
   "source": [
    "---\n",
    "# 51\n",
    "---"
   ]
  },
  {
   "cell_type": "code",
   "execution_count": null,
   "metadata": {},
   "outputs": [
    {
     "name": "stdout",
     "output_type": "stream",
     "text": [
      "Counter({'u': 3, 'x': 3, 'd': 2, 'b': 2, 'h': 2, 'l': 1, 't': 1})\n",
      "l\n"
     ]
    }
   ],
   "source": [
    "from collections import Counter\n",
    "s = input() # uuluddbbxxxhth\n",
    "words_list = Counter(s)\n",
    "print(words_list)\n",
    "for i in s:\n",
    "    if words_list[i] == 1:\n",
    "        print(i)\n",
    "        break"
   ]
  },
  {
   "cell_type": "markdown",
   "metadata": {},
   "source": [
    "---\n",
    "# 53\n",
    "---"
   ]
  },
  {
   "cell_type": "code",
   "execution_count": 48,
   "metadata": {},
   "outputs": [
    {
     "name": "stdout",
     "output_type": "stream",
     "text": [
      "d\n"
     ]
    }
   ],
   "source": [
    "from collections import Counter\n",
    "s = input() # uldbbxddxxhth\n",
    "words_list = Counter(s)\n",
    "for i in s:\n",
    "    if words_list[i] > 1:\n",
    "        print(i)\n",
    "        break"
   ]
  },
  {
   "cell_type": "markdown",
   "metadata": {},
   "source": [
    "---\n",
    "# 54\n",
    "---"
   ]
  },
  {
   "cell_type": "code",
   "execution_count": null,
   "metadata": {},
   "outputs": [
    {
     "name": "stdout",
     "output_type": "stream",
     "text": [
      "b\n"
     ]
    }
   ],
   "source": [
    "s = input() # uldbbxddxxhth\n",
    "words_set = set()\n",
    "for i in s:\n",
    "    if i in words_set:\n",
    "        print(i)\n",
    "        break\n",
    "    else:\n",
    "        words_set.add(i)"
   ]
  },
  {
   "cell_type": "markdown",
   "metadata": {},
   "source": [
    "---\n",
    "# 55\n",
    "---"
   ]
  },
  {
   "cell_type": "code",
   "execution_count": 57,
   "metadata": {},
   "outputs": [
    {
     "name": "stdout",
     "output_type": "stream",
     "text": [
      "Ngu\n"
     ]
    }
   ],
   "source": [
    "s = \"Tôi Bị Ngu Trầm Trọng Trọng Ngu\"\n",
    "# s = input()\n",
    "def first_repeated_word(s: str):\n",
    "    words_list = s.split()\n",
    "    count_list = {}\n",
    "    for i in words_list:\n",
    "        if i in count_list:\n",
    "            count_list[i] += 1\n",
    "        else:\n",
    "            count_list[i] = 1\n",
    "    for key, value in count_list.items():\n",
    "        for word in words_list:\n",
    "            if value > 1 and word == key:\n",
    "                return word\n",
    "    return ''\n",
    "   \n",
    "print(first_repeated_word(s))     "
   ]
  },
  {
   "cell_type": "markdown",
   "metadata": {},
   "source": [
    "---\n",
    "# 56\n",
    "---"
   ]
  },
  {
   "cell_type": "code",
   "execution_count": null,
   "metadata": {},
   "outputs": [],
   "source": []
  }
 ],
 "metadata": {
  "kernelspec": {
   "display_name": "Python 3",
   "language": "python",
   "name": "python3"
  },
  "language_info": {
   "codemirror_mode": {
    "name": "ipython",
    "version": 3
   },
   "file_extension": ".py",
   "mimetype": "text/x-python",
   "name": "python",
   "nbconvert_exporter": "python",
   "pygments_lexer": "ipython3",
   "version": "3.13.2"
  }
 },
 "nbformat": 4,
 "nbformat_minor": 2
}

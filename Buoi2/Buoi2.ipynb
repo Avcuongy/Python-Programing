{
 "cells": [
  {
   "cell_type": "markdown",
   "metadata": {},
   "source": [
    "# 1"
   ]
  },
  {
   "cell_type": "code",
   "execution_count": null,
   "metadata": {},
   "outputs": [
    {
     "name": "stdout",
     "output_type": "stream",
     "text": [
      "10\n"
     ]
    }
   ],
   "source": [
    "s = input() # string\n",
    "print(len(s))"
   ]
  },
  {
   "cell_type": "markdown",
   "metadata": {},
   "source": [
    "# 2"
   ]
  },
  {
   "cell_type": "code",
   "execution_count": null,
   "metadata": {},
   "outputs": [
    {
     "name": "stdout",
     "output_type": "stream",
     "text": [
      "{'g': 2, 'o': 3, 'l': 1, 'e': 1, '.': 1, 'c': 1, 'm': 1}\n"
     ]
    }
   ],
   "source": [
    "s = input() # string\n",
    "dict = {}\n",
    "for i in s:\n",
    "    if i in dict:\n",
    "        dict[i] += 1\n",
    "    else:\n",
    "        dict[i] = 1\n",
    "print(dict)"
   ]
  },
  {
   "cell_type": "markdown",
   "metadata": {},
   "source": [
    "# 3"
   ]
  },
  {
   "cell_type": "code",
   "execution_count": null,
   "metadata": {},
   "outputs": [
    {
     "name": "stdout",
     "output_type": "stream",
     "text": [
      "go\n",
      "om\n"
     ]
    }
   ],
   "source": [
    "s = input() # string\n",
    "if len(s) > 2:\n",
    "    print(f'{s[:2]}\\n{s[-2:]}')\n",
    "else:\n",
    "    print()"
   ]
  },
  {
   "cell_type": "markdown",
   "metadata": {},
   "source": [
    "# 4"
   ]
  },
  {
   "cell_type": "code",
   "execution_count": null,
   "metadata": {},
   "outputs": [
    {
     "name": "stdout",
     "output_type": "stream",
     "text": [
      "goo$le.com\n"
     ]
    }
   ],
   "source": [
    "s = input() # string\n",
    "print(s[0] + s[1:].replace(s[0],'$'))"
   ]
  },
  {
   "cell_type": "markdown",
   "metadata": {},
   "source": [
    "# 5"
   ]
  },
  {
   "cell_type": "code",
   "execution_count": null,
   "metadata": {},
   "outputs": [
    {
     "name": "stdout",
     "output_type": "stream",
     "text": [
      "xyc abz\n"
     ]
    }
   ],
   "source": [
    "s1 = input()\n",
    "s2 = input()\n",
    "print(s2[:2] + s1[2:] + ' ' + s1[:2] + s2[2:])"
   ]
  },
  {
   "cell_type": "markdown",
   "metadata": {},
   "source": [
    "# 6"
   ]
  },
  {
   "cell_type": "code",
   "execution_count": 36,
   "metadata": {},
   "outputs": [
    {
     "name": "stdout",
     "output_type": "stream",
     "text": [
      "acbingly\n",
      "acbing\n"
     ]
    }
   ],
   "source": [
    "s = input() # string\n",
    "if len(s) > 3:\n",
    "    if s[-3:] == 'ing':\n",
    "        print(s + 'ly')\n",
    "    else:\n",
    "        print(s + 'ing')\n",
    "print(s)"
   ]
  },
  {
   "cell_type": "markdown",
   "metadata": {},
   "source": [
    "# 7"
   ]
  },
  {
   "cell_type": "code",
   "execution_count": null,
   "metadata": {},
   "outputs": [
    {
     "name": "stdout",
     "output_type": "stream",
     "text": [
      "this lyrics is good !\n"
     ]
    }
   ],
   "source": [
    "s = input()  # string\n",
    "index_not = s.find(\"not\")\n",
    "index_poor = s.find(\"poor\")\n",
    "if index_not != -1 and index_poor != -1:\n",
    "    print(f\"{s[:index_not]}good{s[index_poor + 4:]}\")\n",
    "else:\n",
    "    print(s)"
   ]
  },
  {
   "cell_type": "markdown",
   "metadata": {},
   "source": [
    "# 8"
   ]
  },
  {
   "cell_type": "code",
   "execution_count": 75,
   "metadata": {},
   "outputs": [
    {
     "name": "stdout",
     "output_type": "stream",
     "text": [
      "Exercises\n"
     ]
    }
   ],
   "source": [
    "words_list = ['Python','Coding','Exercises', 'Test']\n",
    "print(max(words_list, key=len))"
   ]
  },
  {
   "cell_type": "markdown",
   "metadata": {},
   "source": [
    "# 9"
   ]
  },
  {
   "cell_type": "code",
   "execution_count": 78,
   "metadata": {},
   "outputs": [
    {
     "name": "stdout",
     "output_type": "stream",
     "text": [
      "inputdayne\n",
      "inputayne\n"
     ]
    }
   ],
   "source": [
    "n = int(input()) # int\n",
    "s  = input() # string\n",
    "print(s)\n",
    "print(f'{s[:n]}{s[n+1:]}')"
   ]
  },
  {
   "cell_type": "markdown",
   "metadata": {},
   "source": [
    "# 10"
   ]
  },
  {
   "cell_type": "code",
   "execution_count": 81,
   "metadata": {},
   "outputs": [
    {
     "name": "stdout",
     "output_type": "stream",
     "text": [
      "ioilaat\n"
     ]
    }
   ],
   "source": [
    "s = input() # string\n",
    "print(f'{s[-1] + s[1:len(s)-1] + s[0]}')"
   ]
  },
  {
   "cell_type": "markdown",
   "metadata": {},
   "source": [
    "# 11"
   ]
  },
  {
   "cell_type": "code",
   "execution_count": 85,
   "metadata": {},
   "outputs": [
    {
     "name": "stdout",
     "output_type": "stream",
     "text": [
      "toidayne\n",
      "tian\n"
     ]
    }
   ],
   "source": [
    "s = input() # string\n",
    "new_s = ''\n",
    "print(s)\n",
    "for i in range(len(s)):\n",
    "    if i % 2 == 0:\n",
    "        new_s += s[i]\n",
    "print(new_s)"
   ]
  },
  {
   "cell_type": "markdown",
   "metadata": {},
   "source": [
    "# 12"
   ]
  },
  {
   "cell_type": "code",
   "execution_count": 96,
   "metadata": {},
   "outputs": [
    {
     "name": "stdout",
     "output_type": "stream",
     "text": [
      "tôi: 3\n",
      "là: 3\n",
      "ai: 3\n",
      "không: 3\n",
      "quan: 3\n",
      "trọng: 3\n"
     ]
    }
   ],
   "source": [
    "from collections import Counter\n",
    "s = input() # string sentences\n",
    "s = s.strip().rstrip('.?!')\n",
    "words_list = s.split()\n",
    "for key, value in Counter(words_list).items():\n",
    "    print(f'{key}: {value}')"
   ]
  },
  {
   "cell_type": "markdown",
   "metadata": {},
   "source": [
    "# 13"
   ]
  },
  {
   "cell_type": "code",
   "execution_count": 97,
   "metadata": {},
   "outputs": [
    {
     "name": "stdout",
     "output_type": "stream",
     "text": [
      "thudbndv\n",
      "THUDBNDV\n"
     ]
    }
   ],
   "source": [
    "s = input() # string\n",
    "print(f'{s.lower()}\\n{s.upper()}')"
   ]
  },
  {
   "cell_type": "markdown",
   "metadata": {},
   "source": [
    "# 14"
   ]
  },
  {
   "cell_type": "code",
   "execution_count": 121,
   "metadata": {},
   "outputs": [
    {
     "name": "stdout",
     "output_type": "stream",
     "text": [
      "black, green, red, white\n"
     ]
    }
   ],
   "source": [
    "s = input() # string\n",
    "s = s.replace(',', ' ')\n",
    "words_list = s.split()\n",
    "words_list = sorted(set(words_list))\n",
    "print(f'{', '.join(words_list)}')"
   ]
  },
  {
   "cell_type": "markdown",
   "metadata": {},
   "source": [
    "# 15\n",
    "```\n",
    "Sample function and result : \n",
    "add_tags('i', 'Python') -> '<i>Python</i>' \n",
    "add_tags('b', 'Python Tutorial') -> '<b>Python Tutorial </b>'\n",
    "```"
   ]
  },
  {
   "cell_type": "code",
   "execution_count": 123,
   "metadata": {},
   "outputs": [
    {
     "data": {
      "text/plain": [
       "'<b>Python Tutorial</b>'"
      ]
     },
     "execution_count": 123,
     "metadata": {},
     "output_type": "execute_result"
    }
   ],
   "source": [
    "def add_tags(i:str, s:str):\n",
    "    return f'<{i}>{s}</{i}>'\n",
    "\n",
    "add_tags('b', 'Python Tutorial')"
   ]
  },
  {
   "cell_type": "markdown",
   "metadata": {},
   "source": [
    "# 16\n",
    "```\n",
    "Sample function and result : \n",
    "insert_sting_middle('[[]]<<>>', ' Python') -> [[Python]] \n",
    "\n",
    "```"
   ]
  },
  {
   "cell_type": "code",
   "execution_count": 130,
   "metadata": {},
   "outputs": [
    {
     "data": {
      "text/plain": [
       "'{{{PHP}}}'"
      ]
     },
     "execution_count": 130,
     "metadata": {},
     "output_type": "execute_result"
    }
   ],
   "source": [
    "def insert_sting_middle(s:str, i:str):\n",
    "    mid = len(s) // 2\n",
    "    return s[:mid] + i + s[mid:]\n",
    "\n",
    "insert_sting_middle('{{{}}}', 'PHP')"
   ]
  },
  {
   "cell_type": "markdown",
   "metadata": {},
   "source": [
    "# 17\n",
    "```\n",
    "insert_end('Python') -> onononon \n",
    "insert_end('Exercises') -> eseseses\n",
    "```"
   ]
  },
  {
   "cell_type": "code",
   "execution_count": 134,
   "metadata": {},
   "outputs": [
    {
     "data": {
      "text/plain": [
       "'eseseses'"
      ]
     },
     "execution_count": 134,
     "metadata": {},
     "output_type": "execute_result"
    }
   ],
   "source": [
    "def insert_end(s:str):\n",
    "    return s[-2:]*4\n",
    "\n",
    "insert_end('Exercises')"
   ]
  },
  {
   "cell_type": "markdown",
   "metadata": {},
   "source": [
    "# 18\n",
    "```\n",
    "first_three('ipy') -> ipy \n",
    "first_three(' python') -> pyt\n",
    "```"
   ]
  },
  {
   "cell_type": "code",
   "execution_count": 138,
   "metadata": {},
   "outputs": [
    {
     "data": {
      "text/plain": [
       "'Pyt'"
      ]
     },
     "execution_count": 138,
     "metadata": {},
     "output_type": "execute_result"
    }
   ],
   "source": [
    "def first_three(s:str):\n",
    "    if len(s) > 3:\n",
    "        return s[:3]\n",
    "    return s\n",
    "\n",
    "first_three('Python')"
   ]
  },
  {
   "cell_type": "markdown",
   "metadata": {},
   "source": [
    "# 19\n",
    "```\n",
    "https://www.w3resource.com/python-exercises \n",
    "https://www.w3resource.com/python\n",
    "```"
   ]
  },
  {
   "cell_type": "code",
   "execution_count": 142,
   "metadata": {},
   "outputs": [
    {
     "data": {
      "text/plain": [
       "'https://www.w3resource.com/python'"
      ]
     },
     "execution_count": 142,
     "metadata": {},
     "output_type": "execute_result"
    }
   ],
   "source": [
    "def specified_string(s:str):\n",
    "    index = 0\n",
    "    for i in range(len(s)-1, 0, -1):\n",
    "        if not str(s[i]).isalnum():\n",
    "            index = i\n",
    "            break\n",
    "    return s[:index]\n",
    "\n",
    "specified_string('https://www.w3resource.com/python-exercises')"
   ]
  },
  {
   "cell_type": "markdown",
   "metadata": {},
   "source": [
    "# 20"
   ]
  },
  {
   "cell_type": "code",
   "execution_count": 146,
   "metadata": {},
   "outputs": [
    {
     "name": "stdout",
     "output_type": "stream",
     "text": [
      "gnôhk nohtyp\n"
     ]
    }
   ],
   "source": [
    "def reverse_str_mul_by_four(s:str):\n",
    "    if len(s) % 4 == 0:\n",
    "        return s[::-1]\n",
    "    return s\n",
    "    \n",
    "s = input() # string\n",
    "print(reverse_str_mul_by_four(s))"
   ]
  },
  {
   "cell_type": "markdown",
   "metadata": {},
   "source": [
    "# 21"
   ]
  },
  {
   "cell_type": "code",
   "execution_count": 150,
   "metadata": {},
   "outputs": [
    {
     "name": "stdout",
     "output_type": "stream",
     "text": [
      "THON VI DA\n"
     ]
    }
   ],
   "source": [
    "def is_four_char_upper(s:str): \n",
    "    words_first_four = s[:5]\n",
    "    for i in words_first_four:\n",
    "        if i.isupper():\n",
    "            return s.upper()\n",
    "    return s\n",
    "\n",
    "s = input() # string\n",
    "print(is_four_char_upper(s))"
   ]
  },
  {
   "cell_type": "markdown",
   "metadata": {},
   "source": [
    "# 22"
   ]
  },
  {
   "cell_type": "code",
   "execution_count": null,
   "metadata": {},
   "outputs": [],
   "source": []
  },
  {
   "cell_type": "markdown",
   "metadata": {},
   "source": [
    "# 23"
   ]
  },
  {
   "cell_type": "code",
   "execution_count": null,
   "metadata": {},
   "outputs": [],
   "source": []
  },
  {
   "cell_type": "markdown",
   "metadata": {},
   "source": [
    "# 24"
   ]
  },
  {
   "cell_type": "code",
   "execution_count": null,
   "metadata": {},
   "outputs": [],
   "source": []
  },
  {
   "cell_type": "markdown",
   "metadata": {},
   "source": [
    "# 25"
   ]
  },
  {
   "cell_type": "code",
   "execution_count": null,
   "metadata": {},
   "outputs": [],
   "source": []
  },
  {
   "cell_type": "markdown",
   "metadata": {},
   "source": [
    "# 26"
   ]
  },
  {
   "cell_type": "code",
   "execution_count": null,
   "metadata": {},
   "outputs": [],
   "source": []
  },
  {
   "cell_type": "markdown",
   "metadata": {},
   "source": [
    "# 27"
   ]
  },
  {
   "cell_type": "code",
   "execution_count": null,
   "metadata": {},
   "outputs": [],
   "source": []
  },
  {
   "cell_type": "markdown",
   "metadata": {},
   "source": [
    "# 28"
   ]
  },
  {
   "cell_type": "code",
   "execution_count": null,
   "metadata": {},
   "outputs": [],
   "source": []
  },
  {
   "cell_type": "markdown",
   "metadata": {},
   "source": [
    "# 29"
   ]
  },
  {
   "cell_type": "code",
   "execution_count": null,
   "metadata": {},
   "outputs": [],
   "source": []
  },
  {
   "cell_type": "markdown",
   "metadata": {},
   "source": [
    "# 30"
   ]
  },
  {
   "cell_type": "markdown",
   "metadata": {},
   "source": []
  },
  {
   "cell_type": "markdown",
   "metadata": {},
   "source": [
    "# 31"
   ]
  },
  {
   "cell_type": "markdown",
   "metadata": {},
   "source": []
  },
  {
   "cell_type": "markdown",
   "metadata": {},
   "source": [
    "# 32"
   ]
  },
  {
   "cell_type": "markdown",
   "metadata": {},
   "source": []
  },
  {
   "cell_type": "markdown",
   "metadata": {},
   "source": [
    "# 33"
   ]
  },
  {
   "cell_type": "code",
   "execution_count": null,
   "metadata": {},
   "outputs": [],
   "source": []
  },
  {
   "cell_type": "markdown",
   "metadata": {},
   "source": [
    "# 34"
   ]
  },
  {
   "cell_type": "markdown",
   "metadata": {},
   "source": [
    "# 35"
   ]
  },
  {
   "cell_type": "markdown",
   "metadata": {},
   "source": [
    "# 36"
   ]
  },
  {
   "cell_type": "markdown",
   "metadata": {},
   "source": [
    "# 37"
   ]
  },
  {
   "cell_type": "markdown",
   "metadata": {},
   "source": [
    "# 38"
   ]
  },
  {
   "cell_type": "markdown",
   "metadata": {},
   "source": [
    "# 39"
   ]
  },
  {
   "cell_type": "markdown",
   "metadata": {},
   "source": [
    "# 40"
   ]
  },
  {
   "cell_type": "markdown",
   "metadata": {},
   "source": []
  }
 ],
 "metadata": {
  "kernelspec": {
   "display_name": "Python 3",
   "language": "python",
   "name": "python3"
  },
  "language_info": {
   "codemirror_mode": {
    "name": "ipython",
    "version": 3
   },
   "file_extension": ".py",
   "mimetype": "text/x-python",
   "name": "python",
   "nbconvert_exporter": "python",
   "pygments_lexer": "ipython3",
   "version": "3.13.2"
  }
 },
 "nbformat": 4,
 "nbformat_minor": 2
}

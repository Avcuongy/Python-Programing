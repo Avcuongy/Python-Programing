{
  "nbformat": 4,
  "nbformat_minor": 0,
  "metadata": {
    "colab": {
      "provenance": []
    },
    "kernelspec": {
      "name": "python3",
      "display_name": "Python 3"
    },
    "language_info": {
      "name": "python"
    }
  },
  "cells": [
    {
      "cell_type": "markdown",
      "source": [
        "# 1. write a program that prints numbers from 1 to 10"
      ],
      "metadata": {
        "id": "yIonhfKNrXUa"
      }
    },
    {
      "cell_type": "code",
      "execution_count": 1,
      "metadata": {
        "colab": {
          "base_uri": "https://localhost:8080/"
        },
        "id": "hNBIRTysrT39",
        "outputId": "db10d102-7cca-4ed3-e0f8-76a77472ef2b"
      },
      "outputs": [
        {
          "output_type": "stream",
          "name": "stdout",
          "text": [
            "0\n",
            "1\n",
            "2\n",
            "3\n",
            "4\n",
            "5\n",
            "6\n",
            "7\n",
            "8\n",
            "9\n",
            "10\n"
          ]
        }
      ],
      "source": [
        "for i in range(11):\n",
        "  print(i)"
      ]
    },
    {
      "cell_type": "markdown",
      "source": [
        "# 2. Write a program to calculate the sum of numbers in a range from 1 to n (n is entered from the keyboard)"
      ],
      "metadata": {
        "id": "zREpTHFarpkA"
      }
    },
    {
      "cell_type": "code",
      "source": [
        "num = int(input())\n",
        "sum = 0\n",
        "for i in range (num+1):\n",
        "  sum += i\n",
        "print(sum)"
      ],
      "metadata": {
        "colab": {
          "base_uri": "https://localhost:8080/"
        },
        "id": "_BUYoaLQro6Z",
        "outputId": "72b1b1f5-ff25-46ff-c4f8-5b4c6b88b2f6"
      },
      "execution_count": 3,
      "outputs": [
        {
          "output_type": "stream",
          "name": "stdout",
          "text": [
            "8\n",
            "36\n"
          ]
        }
      ]
    },
    {
      "cell_type": "markdown",
      "source": [
        "# 3. Write a program to calculate the sum of even (/odd) numbers in a range from 1 to n (n is entered from the keyboard)"
      ],
      "metadata": {
        "id": "XqWnhuOSr1Y3"
      }
    },
    {
      "cell_type": "code",
      "source": [
        "num = int(input())\n",
        "print('even list: ',end='')\n",
        "for i in range(num+1):\n",
        "  if i%2 == 0:\n",
        "    print(i,end=' ')\n",
        "\n",
        "print('\\nodd list: ',end='')\n",
        "for i in range(num+1):\n",
        "  if i%2 != 0:\n",
        "    print(i,end =' ')"
      ],
      "metadata": {
        "colab": {
          "base_uri": "https://localhost:8080/"
        },
        "id": "YG3XuxpdryPm",
        "outputId": "6d54df77-8a56-4155-a005-f729d623bc36"
      },
      "execution_count": 9,
      "outputs": [
        {
          "output_type": "stream",
          "name": "stdout",
          "text": [
            "8\n",
            "even list: 0 2 4 6 8 \n",
            "odd list: 1 3 5 7 "
          ]
        }
      ]
    },
    {
      "cell_type": "markdown",
      "source": [
        "# 4. Write a program to check how many vowels are in a string entered from the keyboard."
      ],
      "metadata": {
        "id": "Epc4gldysaAM"
      }
    },
    {
      "cell_type": "code",
      "source": [
        "vowels = 'euoai'\n",
        "s = input()\n",
        "count = 0\n",
        "for i in vowels:\n",
        "  if i in s:\n",
        "    count += s.count(i)\n",
        "print(count)"
      ],
      "metadata": {
        "colab": {
          "base_uri": "https://localhost:8080/"
        },
        "id": "lnW2cKuur9dX",
        "outputId": "17817fd4-acc1-461a-b268-815628d156ac"
      },
      "execution_count": 10,
      "outputs": [
        {
          "output_type": "stream",
          "name": "stdout",
          "text": [
            "uibdasuqei\n",
            "6\n"
          ]
        }
      ]
    },
    {
      "cell_type": "markdown",
      "source": [
        "# 6. Write a program to count the number of words in a sentence the user enters."
      ],
      "metadata": {
        "id": "NNayIrdWs0R5"
      }
    },
    {
      "cell_type": "code",
      "source": [
        "s = input()\n",
        "words_list = len(s.split())\n",
        "word_dict = {}\n",
        "for i in s.split():\n",
        "  word_dict[i] = s.count(i)\n",
        "print(word_dict)"
      ],
      "metadata": {
        "colab": {
          "base_uri": "https://localhost:8080/"
        },
        "id": "mtgtT-8QsvtC",
        "outputId": "c6854f81-b216-4417-ff45-3eb52e82ad3a"
      },
      "execution_count": 12,
      "outputs": [
        {
          "output_type": "stream",
          "name": "stdout",
          "text": [
            "tôi là tôi nhưng nhưng không phải không tôi là người nè người luôn á\n",
            "{'tôi': 3, 'là': 2, 'nhưng': 2, 'không': 2, 'phải': 1, 'người': 2, 'nè': 1, 'luôn': 1, 'á': 1}\n"
          ]
        }
      ]
    },
    {
      "cell_type": "markdown",
      "source": [
        "# 7. Write a program that implements a game as the following description:\n",
        "```\n",
        "\t1. The computer generates a random number from 1 to 100\n",
        "\n",
        "\t2. The user was asked to guess\n",
        "\n",
        "\t3. match the user-guessing number to the generated number\n",
        "```\n",
        "The user can only guess five times."
      ],
      "metadata": {
        "id": "4ZBfYMl4uA8c"
      }
    },
    {
      "cell_type": "code",
      "source": [
        "import random as r\n",
        "guess = r.randint(1,101)\n",
        "for i in range(5):\n",
        "  my_guess = int(input())\n",
        "  if my_guess == guess:\n",
        "    print('you win')\n",
        "    break\n",
        "  elif i == 4:\n",
        "    print(f'you lose ! correct is {guess}')\n",
        "  else:\n",
        "    print(f'remain {4-i}\\n')"
      ],
      "metadata": {
        "colab": {
          "base_uri": "https://localhost:8080/"
        },
        "id": "43N8WJGItyX9",
        "outputId": "981c069e-92b2-4f79-97f9-2d1b6d8e53d8"
      },
      "execution_count": 20,
      "outputs": [
        {
          "output_type": "stream",
          "name": "stdout",
          "text": [
            "9\n",
            "remain 4\n",
            "\n",
            "12\n",
            "remain 3\n",
            "\n",
            "56\n",
            "you win\n"
          ]
        }
      ]
    }
  ]
}
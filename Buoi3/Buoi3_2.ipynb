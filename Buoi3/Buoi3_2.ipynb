{
  "nbformat": 4,
  "nbformat_minor": 0,
  "metadata": {
    "colab": {
      "provenance": []
    },
    "kernelspec": {
      "name": "python3",
      "display_name": "Python 3"
    },
    "language_info": {
      "name": "python"
    }
  },
  "cells": [
    {
      "cell_type": "markdown",
      "source": [
        "# 1. Write a program to check a person is eligible for voting or not (saccept age from user)"
      ],
      "metadata": {
        "id": "9epW7cZhozZE"
      }
    },
    {
      "cell_type": "code",
      "source": [
        "age = int(input())\n",
        "print('eligable' if age>=18 else 'not eglible')"
      ],
      "metadata": {
        "colab": {
          "base_uri": "https://localhost:8080/"
        },
        "id": "0HlUI96Vo0Ma",
        "outputId": "8514e903-944a-45d4-de37-4d3833d7a298"
      },
      "execution_count": 18,
      "outputs": [
        {
          "output_type": "stream",
          "name": "stdout",
          "text": [
            "7\n",
            "not eglible\n"
          ]
        }
      ]
    },
    {
      "cell_type": "markdown",
      "source": [
        "# 2. Write a program to check whether a number entered by user is even or odd."
      ],
      "metadata": {
        "id": "zI0C-3gEo4jx"
      }
    },
    {
      "cell_type": "code",
      "source": [
        "num = int(input())\n",
        "print('even' if num % 2 == 0 else 'odd')"
      ],
      "metadata": {
        "colab": {
          "base_uri": "https://localhost:8080/"
        },
        "id": "Rgd2ePJWo40Z",
        "outputId": "befaa0a1-d188-4c9b-f43b-cd1e33679c64"
      },
      "execution_count": 19,
      "outputs": [
        {
          "output_type": "stream",
          "name": "stdout",
          "text": [
            "6\n",
            "even\n"
          ]
        }
      ]
    },
    {
      "cell_type": "markdown",
      "source": [
        "# 3. Write a program to check whether a number is divisible by 7 or not."
      ],
      "metadata": {
        "id": "w2oO1wj_o9Qp"
      }
    },
    {
      "cell_type": "code",
      "source": [
        "num = int(input())\n",
        "print('divisiable' if num%7==0 else 'not')"
      ],
      "metadata": {
        "colab": {
          "base_uri": "https://localhost:8080/"
        },
        "id": "cPidWlDSo9s5",
        "outputId": "6fba8fe9-a417-4562-da31-a82e6be2b95c"
      },
      "execution_count": 20,
      "outputs": [
        {
          "output_type": "stream",
          "name": "stdout",
          "text": [
            "56\n",
            "divisiable\n"
          ]
        }
      ]
    },
    {
      "cell_type": "markdown",
      "source": [
        "# 4. Write a program to check the last digit of a  number (entered by user) is divisible by 3 or not."
      ],
      "metadata": {
        "id": "0bRZLm05pAjB"
      }
    },
    {
      "cell_type": "code",
      "source": [
        "num = int(input())\n",
        "print('divisible' if num%10%3==0 else 'not')"
      ],
      "metadata": {
        "colab": {
          "base_uri": "https://localhost:8080/"
        },
        "id": "pluUPVt6pBAZ",
        "outputId": "3841d10c-46ab-41d1-91cc-0b95a03da077"
      },
      "execution_count": 22,
      "outputs": [
        {
          "output_type": "stream",
          "name": "stdout",
          "text": [
            "562579\n",
            "divisible\n"
          ]
        }
      ]
    },
    {
      "cell_type": "markdown",
      "source": [
        "# 5. Write a Python program to guess a number between 1 and 9."
      ],
      "metadata": {
        "id": "7U69xTvIpEbx"
      }
    },
    {
      "cell_type": "code",
      "source": [
        "import random as r\n",
        "num = r.randint(1,9)\n",
        "guess = int(input())\n",
        "if guess == num:\n",
        "  print('correct')\n",
        "else:\n",
        "  print(f'wrong\\ncorrect is {num}')"
      ],
      "metadata": {
        "colab": {
          "base_uri": "https://localhost:8080/"
        },
        "id": "CZuA09kkpGT3",
        "outputId": "13bad8d4-ffde-4d34-aa60-d5db33d87dcb"
      },
      "execution_count": 14,
      "outputs": [
        {
          "output_type": "stream",
          "name": "stdout",
          "text": [
            "7\n",
            "wrong\n",
            "correct is 1\n"
          ]
        }
      ]
    },
    {
      "cell_type": "markdown",
      "source": [
        "# 6. Write a program to accept a number from 1 to 7 and display the name of the day like 1 for Sunday, 2 for Monday and so on."
      ],
      "metadata": {
        "id": "Y-2kWQPQpGn3"
      }
    },
    {
      "cell_type": "code",
      "source": [
        "n = int(input())\n",
        "if n == 1:\n",
        "  print('sunday')\n",
        "elif n == 2:\n",
        "  print('monday')\n",
        "elif n == 3:\n",
        "  print('tuesday')\n",
        "elif n == 4:\n",
        "  print('wednesday')\n",
        "elif n == 5:\n",
        "  print('thursday')\n",
        "elif n == 6:\n",
        "  print('friday')\n",
        "elif n == 7:\n",
        "  print('saturday')\n",
        "else:\n",
        "  print('invalid')"
      ],
      "metadata": {
        "colab": {
          "base_uri": "https://localhost:8080/"
        },
        "id": "RycD0eNzpIiX",
        "outputId": "2ef206de-6331-410b-a258-9d83fa387e9f"
      },
      "execution_count": 17,
      "outputs": [
        {
          "output_type": "stream",
          "name": "stdout",
          "text": [
            "5\n",
            "thursday\n"
          ]
        }
      ]
    }
  ]
}
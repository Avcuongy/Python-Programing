{
  "nbformat": 4,
  "nbformat_minor": 0,
  "metadata": {
    "colab": {
      "provenance": [],
      "toc_visible": true
    },
    "kernelspec": {
      "name": "python3",
      "display_name": "Python 3"
    },
    "language_info": {
      "name": "python"
    }
  },
  "cells": [
    {
      "cell_type": "markdown",
      "source": [
        "# 1. Write a program that prompts the user to enter base and height of the triangle and calculate an area of this triangle (area = 0.5 x b x h)."
      ],
      "metadata": {
        "id": "9YxsSZLWSeHp"
      }
    },
    {
      "cell_type": "code",
      "execution_count": null,
      "metadata": {
        "id": "HWeHCm7_STuE",
        "colab": {
          "base_uri": "https://localhost:8080/"
        },
        "outputId": "c70896da-8ea7-42eb-a0ce-616b342b99e9"
      },
      "outputs": [
        {
          "output_type": "stream",
          "name": "stdout",
          "text": [
            "4\n",
            "5\n",
            "area: 10.0\n"
          ]
        }
      ],
      "source": [
        "base = float(input())\n",
        "height = float(input())\n",
        "print(f'area: {0.5*base*height}')"
      ]
    },
    {
      "cell_type": "markdown",
      "source": [
        "# 2. Write a script that prompts the user to enter side a, side b, and side c of the triangle. Calculate the perimeter of the triangle (perimeter = a + b + c)."
      ],
      "metadata": {
        "id": "3zC-TYnHgLNj"
      }
    },
    {
      "cell_type": "code",
      "source": [
        "a = float(input())\n",
        "b = float(input())\n",
        "c = float(input())\n",
        "print(f'perimeter: {a+b+c}')"
      ],
      "metadata": {
        "colab": {
          "base_uri": "https://localhost:8080/"
        },
        "id": "J1GdqyTjgJo7",
        "outputId": "d7aa399a-e4cd-4124-9f37-0e2fdc18db21"
      },
      "execution_count": null,
      "outputs": [
        {
          "output_type": "stream",
          "name": "stdout",
          "text": [
            "1\n",
            "4\n",
            "3\n",
            "perimeter: 8.0\n"
          ]
        }
      ]
    },
    {
      "cell_type": "markdown",
      "source": [
        "# 3. Get length and width of a rectangle using prompt. Calculate its area (area = length x width) and perimeter (perimeter = 2 x (length + width))"
      ],
      "metadata": {
        "id": "vmnBxNGTgUOF"
      }
    },
    {
      "cell_type": "code",
      "source": [
        "length = float(input())\n",
        "width = float(input())\n",
        "print(f'area: {length*width}')\n",
        "print(f'perimeter: {2*(length+width)}')"
      ],
      "metadata": {
        "colab": {
          "base_uri": "https://localhost:8080/"
        },
        "id": "_f0KBSAQgXtl",
        "outputId": "11da3def-7767-4427-ec6d-d2cf0987997f"
      },
      "execution_count": null,
      "outputs": [
        {
          "output_type": "stream",
          "name": "stdout",
          "text": [
            "6\n",
            "9\n",
            "area: 54.0\n",
            "perimeter: 30.0\n"
          ]
        }
      ]
    },
    {
      "cell_type": "markdown",
      "source": [
        "# 4. Get radius of a circle using prompt. Calculate the area (area = pi x r x r) and circumference (c = 2 x pi x r) where pi = 3.14."
      ],
      "metadata": {
        "id": "Fyfa_920ghJt"
      }
    },
    {
      "cell_type": "code",
      "source": [
        "radius = float(input())\n",
        "print(f'area: {3.14*radius*radius}')\n",
        "print(f'circumference: {2*3.14*radius}')"
      ],
      "metadata": {
        "colab": {
          "base_uri": "https://localhost:8080/"
        },
        "id": "Ns_ZQFW5gllg",
        "outputId": "f98d1aca-1b57-486e-ab26-14f0945526b4"
      },
      "execution_count": null,
      "outputs": [
        {
          "output_type": "stream",
          "name": "stdout",
          "text": [
            "4\n",
            "area: 50.24\n",
            "circumference: 25.12\n"
          ]
        }
      ]
    },
    {
      "cell_type": "markdown",
      "source": [
        "# 5. Calculate the slope, x-intercept and y-intercept of y = 2x -2"
      ],
      "metadata": {
        "id": "Kw88rfafgqjQ"
      }
    },
    {
      "cell_type": "code",
      "source": [
        "# Calculate the slope, x-intercept and y-intercept of y = 2x -2\n",
        "a = 2\n",
        "b = -2\n",
        "\n",
        "y_intercept = b\n",
        "\n",
        "x_intercept = -b / a\n",
        "\n",
        "print(\"Slope:\", a)\n",
        "print(\"X-intercept = \", x_intercept)\n",
        "print(\"Y-intercept = \", y_intercept)"
      ],
      "metadata": {
        "colab": {
          "base_uri": "https://localhost:8080/"
        },
        "id": "2Z_pmrVZgp1S",
        "outputId": "9e80807f-9ba4-4c2d-de46-1a67a80f97b0"
      },
      "execution_count": null,
      "outputs": [
        {
          "output_type": "stream",
          "name": "stdout",
          "text": [
            "Slope: 2\n",
            "X-intercept =  1.0\n",
            "Y-intercept =  -2\n"
          ]
        }
      ]
    },
    {
      "cell_type": "markdown",
      "source": [
        "# 6. Slope is (m = y2-y1/x2-x1). Find the slope and Euclidean distance between point (2, 2) and point (6,10)"
      ],
      "metadata": {
        "id": "EGYY1etIg7Sz"
      }
    },
    {
      "cell_type": "code",
      "source": [
        "import math\n",
        "\n",
        "x1, y1 = 2, 2\n",
        "x2, y2 = 6, 10\n",
        "\n",
        "slope = (y2 - y1) / (x2 - x1)\n",
        "\n",
        "distance = math.sqrt((x2 - x1)**2 + (y2 - y1)**2)\n",
        "\n",
        "print(f\"Slope: {slope}\")\n",
        "print(f\"Euclidean distance: {distance}\")"
      ],
      "metadata": {
        "colab": {
          "base_uri": "https://localhost:8080/"
        },
        "id": "PpK4TjoQg8_L",
        "outputId": "a54b0e82-5a18-4431-caec-049e6d5509b2"
      },
      "execution_count": null,
      "outputs": [
        {
          "output_type": "stream",
          "name": "stdout",
          "text": [
            "Slope: 2.0\n",
            "Euclidean distance: 8.94427190999916\n"
          ]
        }
      ]
    },
    {
      "cell_type": "markdown",
      "source": [
        "# 7. Compare the slopes in tasks 5 and 6."
      ],
      "metadata": {
        "id": "XozIYbqkiHFO"
      }
    },
    {
      "cell_type": "code",
      "source": [
        "x1, y1 = 2, 2\n",
        "x2, y2 = 6, 10\n",
        "slope1 = (y2 - y1) / (x2 - x1)\n",
        "\n",
        "slope2 = 2 # y=2x-2\n",
        "\n",
        "print(f\"Slope from task 6: {slope1}\")\n",
        "print(f\"Slope from task 5: {slope2}\")\n",
        "\n",
        "if slope1 == slope2:\n",
        "    print(\"Slopes are equal.\")\n",
        "elif slope1 > slope2:\n",
        "    print(\"Slope from task 6 is greater than slope from task 5.\")\n",
        "else:\n",
        "    print(\"Slope from task 6 is less than slope from task 5.\")"
      ],
      "metadata": {
        "colab": {
          "base_uri": "https://localhost:8080/"
        },
        "id": "ZdDaXZY2iHaW",
        "outputId": "20c2b5a2-e348-4fb7-8966-38814965a199"
      },
      "execution_count": null,
      "outputs": [
        {
          "output_type": "stream",
          "name": "stdout",
          "text": [
            "Slope from task 6: 2.0\n",
            "Slope from task 5: 2\n",
            "Slopes are equal.\n"
          ]
        }
      ]
    },
    {
      "cell_type": "markdown",
      "source": [
        "# 8. Calculate the value of y (y = x^2 + 6x + 9). Try to use different x values and figure out at what x value y is going to be 0."
      ],
      "metadata": {
        "id": "Vyopref8iRtj"
      }
    },
    {
      "cell_type": "code",
      "source": [
        "x = float(input())\n",
        "y = x**2 + 6*x + 9\n",
        "print(f\"When x = {x}, y = {y}\")"
      ],
      "metadata": {
        "colab": {
          "base_uri": "https://localhost:8080/"
        },
        "id": "-NIkxllxiSsk",
        "outputId": "081b237c-b444-4e50-9f31-66c57e602c5b"
      },
      "execution_count": null,
      "outputs": [
        {
          "output_type": "stream",
          "name": "stdout",
          "text": [
            "-3\n",
            "When x = -3.0, y = 0.0\n"
          ]
        }
      ]
    },
    {
      "cell_type": "markdown",
      "source": [
        "# 9. Find the length of 'python' and 'dragon' and make a falsy comparison statement."
      ],
      "metadata": {
        "id": "QSb7aEEviTos"
      }
    },
    {
      "cell_type": "code",
      "source": [
        "l1 = len('python')\n",
        "l2 = len('dragon')\n",
        "print(f\"Length 'python': {l1}\")\n",
        "print(f\"Length 'dragon': {l2}\")\n",
        "print(f\"Falsy comparison: {l1 != l2}\")"
      ],
      "metadata": {
        "colab": {
          "base_uri": "https://localhost:8080/"
        },
        "id": "4H6i25lUiVs0",
        "outputId": "65b065e2-1008-49a6-f3de-5092d74f6a4f"
      },
      "execution_count": null,
      "outputs": [
        {
          "output_type": "stream",
          "name": "stdout",
          "text": [
            "Length 'python': 6\n",
            "Length 'dragon': 6\n",
            "Falsy comparison: False\n"
          ]
        }
      ]
    },
    {
      "cell_type": "markdown",
      "source": [
        "# 10. Use and operator to check if 'on' is found in both 'python' and 'dragon'"
      ],
      "metadata": {
        "id": "MEK2tNtEinlv"
      }
    },
    {
      "cell_type": "code",
      "source": [
        "s1 = 'Python'\n",
        "s2 = 'dragon'\n",
        "print(f'{True if \"on\" in s1 and \"on\" in s2 else False}')"
      ],
      "metadata": {
        "colab": {
          "base_uri": "https://localhost:8080/"
        },
        "id": "DdUDWSjbizP_",
        "outputId": "2da852ae-608c-4ad9-aa9e-7df9786ed5fa"
      },
      "execution_count": null,
      "outputs": [
        {
          "output_type": "stream",
          "name": "stdout",
          "text": [
            "True\n"
          ]
        }
      ]
    },
    {
      "cell_type": "markdown",
      "source": [
        "# 11. I hope this course is not full of jargon. Use in operator to check if jargon is in the sentence."
      ],
      "metadata": {
        "id": "ttRQwiaCjVXC"
      }
    },
    {
      "cell_type": "code",
      "source": [
        "sentence = \"I hope this course is not full of jargon.\"\n",
        "print(f'{True if \"jargon\" in sentence else False}')"
      ],
      "metadata": {
        "colab": {
          "base_uri": "https://localhost:8080/"
        },
        "id": "tTQ4eh5zjT_J",
        "outputId": "6f1dd270-916f-45ef-cad1-bcf771b6965a"
      },
      "execution_count": null,
      "outputs": [
        {
          "output_type": "stream",
          "name": "stdout",
          "text": [
            "True\n"
          ]
        }
      ]
    },
    {
      "cell_type": "markdown",
      "source": [
        "# 13. Find the length of the text python and convert the value to float and convert it to string"
      ],
      "metadata": {
        "id": "13E5I8jdkCXq"
      }
    },
    {
      "cell_type": "code",
      "source": [
        "s = input()\n",
        "print(f'Length of \\'{s}\\': {len(s)}')\n",
        "print(f'Float value: {float(len(s))}')\n",
        "print(f'String value: {str(len(s))}')"
      ],
      "metadata": {
        "colab": {
          "base_uri": "https://localhost:8080/"
        },
        "id": "xCbg2YPAj8TE",
        "outputId": "d4460a15-e058-42ae-ac0d-488ce3c322d7"
      },
      "execution_count": null,
      "outputs": [
        {
          "output_type": "stream",
          "name": "stdout",
          "text": [
            "ihsbcyab\n",
            "Length of 'ihsbcyab': 8\n",
            "Float value: 8.0\n",
            "String value: 8\n"
          ]
        }
      ]
    },
    {
      "cell_type": "markdown",
      "source": [
        "# 14. Even numbers are divisible by 2 and the remainder is zero. How do you check if a number is even or not using python?"
      ],
      "metadata": {
        "id": "8cSSI1Z9kETq"
      }
    },
    {
      "cell_type": "code",
      "source": [
        "m=n = int(input())\n",
        "print(f'{True if n%2==0 else False}')"
      ],
      "metadata": {
        "colab": {
          "base_uri": "https://localhost:8080/"
        },
        "id": "cgyFkvR-kKDh",
        "outputId": "2639b50d-47a7-47de-d37c-4c9e0391388b"
      },
      "execution_count": null,
      "outputs": [
        {
          "output_type": "stream",
          "name": "stdout",
          "text": [
            "6\n",
            "True\n"
          ]
        }
      ]
    },
    {
      "cell_type": "markdown",
      "source": [
        "# 15. Writs a script that prompts the user to enter hours and rate per hour. Calculate pay of the person?"
      ],
      "metadata": {
        "id": "mHtswT1UkEO5"
      }
    },
    {
      "cell_type": "code",
      "source": [
        "hours = float(input())\n",
        "rate_per_hour = float(input())\n",
        "pay = hours * rate_per_hour\n",
        "print(f\"Your weekly earning is {pay}\")"
      ],
      "metadata": {
        "colab": {
          "base_uri": "https://localhost:8080/"
        },
        "id": "uZkJzYWlkJOx",
        "outputId": "eb1872e9-a9ec-41fb-e965-49d3ab39fbdd"
      },
      "execution_count": null,
      "outputs": [
        {
          "output_type": "stream",
          "name": "stdout",
          "text": [
            "5\n",
            "13\n",
            "Your weekly earning is 65.0\n"
          ]
        }
      ]
    },
    {
      "cell_type": "markdown",
      "source": [
        "# 16. Write a script that prompts the user to enter number of years. Calculate the number of seconds a person can live. Assume a person can live hundred years"
      ],
      "metadata": {
        "id": "Sgps-P1ukKcZ"
      }
    },
    {
      "cell_type": "code",
      "source": [
        "num_of_years = int(input())\n",
        "num_of_seconds = num_of_years * 31536000\n",
        "print(f\"You can live for {num_of_seconds} seconds\")"
      ],
      "metadata": {
        "colab": {
          "base_uri": "https://localhost:8080/"
        },
        "id": "ks_6HhW2kMpR",
        "outputId": "15c0a954-a1b1-4864-df7f-73ebf6a27490"
      },
      "execution_count": null,
      "outputs": [
        {
          "output_type": "stream",
          "name": "stdout",
          "text": [
            "10\n",
            "You can live for 315360000 seconds\n"
          ]
        }
      ]
    }
  ]
}
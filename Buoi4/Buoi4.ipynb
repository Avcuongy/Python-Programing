{
  "nbformat": 4,
  "nbformat_minor": 0,
  "metadata": {
    "colab": {
      "provenance": []
    },
    "kernelspec": {
      "name": "python3",
      "display_name": "Python 3"
    },
    "language_info": {
      "name": "python"
    }
  },
  "cells": [
    {
      "cell_type": "markdown",
      "source": [
        "# 4-1"
      ],
      "metadata": {
        "id": "42ta8sC-bQwy"
      }
    },
    {
      "cell_type": "code",
      "execution_count": null,
      "metadata": {
        "id": "3BaZAeF_b_eZ"
      },
      "outputs": [],
      "source": [
        "import random as rd\n",
        "import os\n",
        "\n",
        "def select_level():\n",
        "    print(\"Các cấp độ\")\n",
        "    print(\"- low\")  # 9 lần\n",
        "    print(\"- med\")  # 6 lần\n",
        "    print(\"- hard\")  # 4 lần\n",
        "    select = input(\"Chọn cấp độ: \")\n",
        "    return (9 if select == \"low\" else 6 if select == \"med\" else 4 if select == \"hard\" else 0)  # số lần thử max_attempt\n",
        "\n",
        "def game_guess_num(max_attempt: int):\n",
        "    guess = rd.randint(1, 100)\n",
        "    a, b = 1, 100\n",
        "    while max_attempt > 0:\n",
        "        num = int(input(\"số đoán: \"))\n",
        "        if num == guess:\n",
        "            print(\"Chính xác\")\n",
        "            break\n",
        "        elif num > guess:\n",
        "            b = num\n",
        "        elif num < guess:\n",
        "            a = num\n",
        "        max_attempt -= 1\n",
        "        if max_attempt == 0:\n",
        "            print(\"Thua mọe rồi !\")\n",
        "            print(f\"Số đúng là {guess}\")\n",
        "        else:\n",
        "            print(f\"số nằm trong khoảng [{a}, {b}]\")\n",
        "\n",
        "def engine_game():\n",
        "    print(\"Start (yes/no):\", end=\"\")\n",
        "    start = input()\n",
        "    os.system(\"cls\")\n",
        "    while start.lower() == \"yes\":\n",
        "        os.system(\"cls\")\n",
        "        max_attempt = select_level()\n",
        "        os.system(\"cls\")\n",
        "        game_guess_num(max_attempt)\n",
        "        print(\"Again ? (yes/no)\")\n",
        "        start = input()\n",
        "    else:\n",
        "        os.system(\"cls\")\n",
        "        print(\"See you again !\")\n",
        "\n",
        "if __name__ == \"__main__\":\n",
        "    os.system(\"cls\")\n",
        "    engine_game()"
      ]
    },
    {
      "cell_type": "markdown",
      "source": [
        "# 4-2"
      ],
      "metadata": {
        "id": "rTyQY7g3bSdw"
      }
    },
    {
      "cell_type": "code",
      "source": [
        "import random as rd\n",
        "import os\n",
        "\n",
        "def roll_dice():\n",
        "    dice1 = rd.randint(1, 6)\n",
        "    dice2 = rd.randint(1, 6)\n",
        "    total = dice1 + dice2\n",
        "    return dice1, dice2, total\n",
        "\n",
        "def determine_outcome(total):\n",
        "    return \"Tài\" if total > 5 else \"Xỉu\"\n",
        "\n",
        "def play_game(money):\n",
        "    wins = 0\n",
        "    losses = 0\n",
        "    while money > 0:\n",
        "        guess = input(\"Đoán Tài hoặc Xỉu: \").lower()\n",
        "        if guess != \"tài\" and guess != \"xỉu\":\n",
        "            print(\"Nhập sai, vui lòng nhập lại\")\n",
        "            continue\n",
        "\n",
        "        dice1, dice2, total = roll_dice()\n",
        "        outcome = determine_outcome(total)\n",
        "        print(f\"Kết quả xúc xắc: {dice1} và {dice2}, tổng: {total}\")\n",
        "\n",
        "        if guess == outcome[:2]:\n",
        "          print(f\"Bạn thắng! Kết quả là: {outcome}\")\n",
        "          money += 1\n",
        "          wins += 1\n",
        "        else:\n",
        "          print(f\"Bạn thua! Kết quả là: {outcome}\")\n",
        "          money -= 1\n",
        "          losses += 1\n",
        "\n",
        "        print(f\"Số tiền hiện tại: {money}\")\n",
        "\n",
        "        play_again = input(\"Chơi tiếp không (yes/no)? \").lower()\n",
        "        if play_again != \"yes\":\n",
        "            break\n",
        "    return wins, losses\n",
        "\n",
        "if __name__ == \"__main__\":\n",
        "    os.system(\"cls\")\n",
        "    try:\n",
        "        money = int(input(\"Nhập số tiền ban đầu: \"))\n",
        "        if money <= 0:\n",
        "          print(\"Số tiền phải lớn hơn 0\")\n",
        "        else:\n",
        "          wins, losses = play_game(money)\n",
        "          print(f\"Kết thúc game. Thắng {wins} lần, thua {losses} lần\")\n",
        "    except ValueError:\n",
        "        print(\"Số tiền không hợp lệ!\")"
      ],
      "metadata": {
        "id": "8lKm_AWfbS_4",
        "colab": {
          "base_uri": "https://localhost:8080/"
        },
        "outputId": "a07fa14c-1a8b-4c1e-e536-91b19ce0deab"
      },
      "execution_count": 1,
      "outputs": [
        {
          "output_type": "stream",
          "name": "stdout",
          "text": [
            "Nhập số tiền ban đầu: 13\n",
            "Đoán Tài hoặc Xỉu: tài\n",
            "Kết quả xúc xắc: 4 và 5, tổng: 9\n",
            "Bạn thua! Kết quả là: Tài\n",
            "Số tiền hiện tại: 12\n",
            "Chơi tiếp không (yes/no)? no\n",
            "Kết thúc game. Thắng 0 lần, thua 1 lần\n"
          ]
        }
      ]
    }
  ]
}